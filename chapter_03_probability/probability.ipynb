{
 "cells": [
  {
   "cell_type": "markdown",
   "source": [
    "# Probability\n",
    "\n",
    "Branch of mathematics that allows us to quantify uncertainty\n",
    "\n",
    "# Set Theory\n",
    "\n",
    "A set is a collection of things with the following characteristics:\n",
    "* Each element in a set is distinct\n",
    "* The elements in a set are in no particular order\n",
    "\n",
    "A = {1, 2, 3, 4, 5} = {1, 5, 2, 4, 3}\n",
    "\n",
    "# Experiments and Sample Spaces\n",
    "\n",
    "In probability, an experiment is something that produces observation(s) with some \n",
    "level of uncertainty. A sample point is a single possible outcome of an experiment. \n",
    "Finally, a sample space is the set of all possible sample points for an experiment.\n",
    "\n",
    "Example of a sample space for tossing two coins (Heads or Tails):\n",
    "\n",
    "S = {HH, HT, TH, TT}\n",
    "\n",
    "To calculate the estimated probability (P) of any outcome, we can use the \n",
    "following formula:\n",
    "\n",
    "<br>$ P(Event) = \\frac{Number Of Times The Event oOccurred}{Total Number Of Trials} $\n",
    "\n",
    "# Law of Large Numbers\n",
    "\n",
    "We can’t repeat our random experiment an infinite amount of times (as much FUN as that would be!). \n",
    "However, we can still flip both coins a large number of times. As we flip both coins more and more,\n",
    "the observed proportion of times each event occurs will converge to its true probability. \n",
    "This is called the law of large numbers."
   ],
   "metadata": {
    "collapsed": false
   },
   "id": "90e118874745a6f1"
  },
  {
   "cell_type": "code",
   "outputs": [
    {
     "name": "stdout",
     "output_type": "stream",
     "text": [
      "Number of trials: 10\n",
      "P(H,H) = 0.1\n",
      "Number of trials: 100\n",
      "P(H,H) = 0.28\n",
      "Number of trials: 1000\n",
      "P(H,H) = 0.24\n",
      "Number of trials: 10000\n",
      "P(H,H) = 0.25\n",
      "Number of trials: 100000\n",
      "P(H,H) = 0.25\n"
     ]
    }
   ],
   "source": [
    "import numpy as np\n",
    "\n",
    "def coin_flip_experiment():\n",
    "    coin_result_one = ['Heads', 'Tail']\n",
    "    coin_result_two = ['Heads', 'Tail']\n",
    "    result_one = np.random.choice(coin_result_one)\n",
    "    result_two = np.random.choice(coin_result_two)\n",
    "    return result_one, result_two\n",
    "\n",
    "trials = (10, 100, 1_000, 10_000, 100_000)\n",
    "for trial in trials:\n",
    "    event_hh = 0\n",
    "    for _ in range (trial):\n",
    "        if coin_flip_experiment() == ('Heads', 'Heads'):\n",
    "            event_hh += 1\n",
    "    print(\"Number of trials:\", trial)\n",
    "    print(\"P(H,H) =\", round(event_hh/trial, 2))"
   ],
   "metadata": {
    "collapsed": false,
    "ExecuteTime": {
     "end_time": "2024-03-25T15:20:07.102594Z",
     "start_time": "2024-03-25T15:20:06.032927Z"
    }
   },
   "id": "1c097aae02b987b1",
   "execution_count": 3
  },
  {
   "cell_type": "markdown",
   "source": [
    "# Rules of Probability\n",
    "\n",
    "## Union, Intersection, and Complement\n",
    "\n",
    "### Union\n",
    "\n",
    "$ A \\cup B $ (all elements that are in A OR B)\n",
    "\n",
    "### Intersection\n",
    "\n",
    "$ A \\cap B $ (all elements that are in A AND B)\n",
    "\n",
    "### Complement\n",
    "\n",
    "$ A^c = U - A $ (all elements of a universal set U that are not in A)\n",
    "\n",
    "## Independence and Dependence\n",
    "\n",
    "### Independence\n",
    " \n",
    "The fact that previous coin flips do not affect future ones is called independence. \n",
    "Two events are independent if the occurrence of one event does not affect the probability \n",
    "of the other.\n",
    "\n",
    "### Dependence\n",
    "\n",
    "Suppose we have a bag of five marbles: two marbles are blue and three marbles are red. \n",
    "If we take one marble out of the bag, what is the probability that the second marble we \n",
    "take out is blue? This describes two events that are dependent. The probability of grabbing \n",
    "a blue marble in the second event depends on whether we take out a red or a blue marble in the\n",
    "first event.\n",
    "\n",
    "## Mutually Exclusive Events\n",
    "\n",
    "Two events are considered mutually exclusive if they cannot occur at the same time. \n",
    "For example, consider a single coin flip: the events “tails” and “heads” are mutually exclusive \n",
    "because we cannot get both tails and heads on a single flip. (their intersection is an empty set)\n",
    "\n",
    "## Addition Rule\n",
    "\n",
    "The addition rule describes the probability one event OR another event (or both) occurring. \n",
    "\n",
    "$ P(A \\cup B) = P(A) + P(B) - P(A \\cap B) $\n",
    "\n",
    "## Conditional Probability\n",
    "\n",
    "In short, conditional probability measures the probability of one event occurring, \n",
    "given that another one has already occurred. Notationally, we denote the word “given” \n",
    "with a vertical line. For example, if we want to represent the probability that we \n",
    "choose a red marble given the first marble is blue, we can write:\n",
    "\n",
    "P(Red Second | Blue First)\n",
    "\n",
    "For INDEPENDENT events, we can say the following:\n",
    "\n",
    "P(A | B) = P(A) and P(B | A) = P(B)\n",
    "\n",
    "## Multiplication Rule\n",
    "\n",
    "What if we want to calculate the probability that two events happen simultaneously? \n",
    "For two events, A and B, this is $ P(A \\cap B) $ or the probability of the intersection \n",
    "of A and B.\n",
    "\n",
    "The general formula for the probability of DEPENDENT events is:\n",
    "\n",
    "$ P(A \\cap B) = P(A) * P(B|A) $\n",
    "\n",
    "The formula for the probability of INDEPENDENT events is:\n",
    "\n",
    "$ P(A \\cap B) = P(A) * P(B) $\n",
    "\n",
    "## Bayes` Theorem\n",
    "\n",
    "Absolutely! To explain how to calculate the probability of two conditional events using Bayes' \n",
    "Theorem, let's first define the parts of the formula and then walk through an example.\n",
    "\n",
    "Bayes' Theorem formula looks like this:\n",
    "\n",
    "$ P(A|B) = \\frac{P(B|A) * P(A)}{P(B)} $\n",
    " \n",
    "\n",
    "Here's what each part means:\n",
    "* P(A∣B): Probability of Event A happening given that Event B has happened.\n",
    "* P(B∣A): Probability of Event B happening given that Event A has happened.\n",
    "* P(A): The initial probability of Event A happening.\n",
    "* P(B): The initial probability of Event B happening.\n",
    "\n",
    "# Random Variables\n",
    "\n",
    "A random variable is, in its simplest form, a function. In probability, we often use random\n",
    "variables to represent random events. For example, we could use a random variable to represent \n",
    "the outcome of a die roll: any number between one and six."
   ],
   "metadata": {
    "collapsed": false
   },
   "id": "39ecbc1febe94862"
  },
  {
   "cell_type": "code",
   "outputs": [
    {
     "name": "stdout",
     "output_type": "stream",
     "text": [
      "[6 3]\n"
     ]
    }
   ],
   "source": [
    "import numpy as np\n",
    "\n",
    "# Simulate a six-sided die\n",
    "die = range (1, 7) \n",
    "\n",
    "# Simulate rolling a fair die twice\n",
    "result = np.random.choice(die, 2, replace=True)\n",
    "print(result)"
   ],
   "metadata": {
    "collapsed": false,
    "ExecuteTime": {
     "end_time": "2024-03-26T12:13:15.495229Z",
     "start_time": "2024-03-26T12:13:15.492702Z"
    }
   },
   "id": "87fda29eed6ec9e4",
   "execution_count": 5
  },
  {
   "cell_type": "markdown",
   "source": [
    "## Discrete Random Variables\n",
    "\n",
    "Random variables with a countable number of possible values are called discrete random variables.\n",
    "For example, rolling a regular 6-sided die would be considered a discrete random variable \n",
    "because the outcome options are limited to the numbers on the die.\n",
    "\n",
    "## Continuous Random Variables\n",
    "\n",
    "When the possible values of a random variable are uncountable, it is called a continuous random\n",
    "variable. These are generally measurement variables and are uncountable because measurements can\n",
    "always be more precise – meters, centimeters, millimeters, etc.\n",
    "\n",
    "## Probability Mass Functions (PMF)\n",
    "\n",
    "A probability mass function (PMF) is a type of probability distribution that defines the \n",
    "probability of observing a particular value of a discrete random variable. For example, \n",
    "a PMF can be used to calculate the probability of rolling a three on a fair six-sided die.\n",
    "\n",
    "For example, suppose that we flip a fair coin some number of times and count the number of heads.\n",
    "The probability mass function that describes the likelihood of each possible outcome \n",
    "(eg., 0 heads, 1 head, 2 heads, etc.) is called the binomial distribution. The parameters for the\n",
    "binomial distribution are:\n",
    "* n for the number of trials (eg., n=10 if we flip a coin 10 times)\n",
    "* p for the probability of success in each trial (probability of observing a particular outcome in each trial. In this example, p= 0.5 because the probability of observing heads on a fair coin flip is 0.5)\n",
    "\n",
    "If we flip a fair coin 10 times, we say that the number of observed heads follows a \n",
    "Binomial(n=10, p=0.5) distribution. The graph below shows the probability mass function for \n",
    "this experiment. The heights of the bars represent the probability of observing each \n",
    "possible outcome as calculated by the PMF.\n",
    "\n",
    "![Binomial Distribution](binomial-distribution.png)"
   ],
   "metadata": {
    "collapsed": false
   },
   "id": "32b3f6e52969e42e"
  },
  {
   "cell_type": "code",
   "outputs": [
    {
     "name": "stdout",
     "output_type": "stream",
     "text": [
      "x= 0\t Success rate=0.0\n",
      "x= 1\t Success rate=0.01\n",
      "x= 2\t Success rate=0.04\n",
      "x= 3\t Success rate=0.12\n",
      "x= 4\t Success rate=0.21\n",
      "x= 5\t Success rate=0.25\n",
      "x= 6\t Success rate=0.21\n",
      "x= 7\t Success rate=0.12\n",
      "x= 8\t Success rate=0.04\n",
      "x= 9\t Success rate=0.01\n",
      "x=10\t Success rate=0.0\n"
     ]
    }
   ],
   "source": [
    "import scipy.stats as stats\n",
    "\n",
    "trials = 10\n",
    "for success in range(0, 11):\n",
    "    success_rate = stats.binom.pmf(success, trials, 0.5)\n",
    "    print(f\"x={str(success).rjust(2, ' ')}\\t\", f\"Success rate={round(success_rate, 2)}\")"
   ],
   "metadata": {
    "collapsed": false,
    "ExecuteTime": {
     "end_time": "2024-03-27T09:01:15.630376Z",
     "start_time": "2024-03-27T09:01:09.869354Z"
    }
   },
   "id": "8c027d4e57913d49",
   "execution_count": 1
  },
  {
   "cell_type": "code",
   "outputs": [
    {
     "name": "stdout",
     "output_type": "stream",
     "text": [
      "0.66\n",
      "0.25\n"
     ]
    }
   ],
   "source": [
    "import scipy.stats as stats\n",
    "\n",
    "def calculate_pmf_over_range(trials, p_success, range):\n",
    "    success_rate = 0.0\n",
    "    for r in range:\n",
    "        rate = stats.binom.pmf(r, trials, p_success)\n",
    "        success_rate += rate\n",
    "    return success_rate\n",
    "\n",
    "print(str(round(calculate_pmf_over_range(10, 0.5, range(4,7)), 2)))\n",
    "print(str(round(calculate_pmf_over_range(10, 0.5, range(5,6)), 2)))"
   ],
   "metadata": {
    "collapsed": false,
    "ExecuteTime": {
     "end_time": "2024-03-26T14:13:11.226727Z",
     "start_time": "2024-03-26T14:13:11.221219Z"
    }
   },
   "id": "e2fab86ef697a1eb",
   "execution_count": 18
  },
  {
   "cell_type": "markdown",
   "source": [
    "## Cumulative Distribution Function (CDF)\n",
    "\n",
    "The cumulative distribution function (CDF) for a discrete random variable can be derived \n",
    "from the PMF. However, instead of the probability of observing a specific value, the \n",
    "cumulative distribution function gives the probability of observing a specific value OR LESS.\n",
    "\n",
    "As previously discussed, the probabilities for all possible values in a given probability\n",
    "distribution add up to 1. The value of a cumulative distribution function at a given value \n",
    "is equal to the sum of the probabilities lower than it, with a value of 1 for the largest\n",
    "possible number.\n",
    "\n",
    "If $ x_1 < x_2 \\Rightarrow CDF(x_1) < CDF(x_2) $  \n",
    "\n",
    "We can use the CDF to easily calculate the probability of a specific range:\n",
    "\n",
    "<br>$ P(3<=x<=6) = P(x<=6) - P(x<=2) $"
   ],
   "metadata": {
    "collapsed": false
   },
   "id": "bcdc610d43b23e"
  },
  {
   "cell_type": "code",
   "outputs": [
    {
     "name": "stdout",
     "output_type": "stream",
     "text": [
      " 0: 0.0\n",
      " 1: 0.01\n",
      " 2: 0.05\n",
      " 3: 0.17\n",
      " 4: 0.38\n",
      " 5: 0.62\n",
      " 6: 0.83\n",
      " 7: 0.95\n",
      " 8: 0.99\n",
      " 9: 1.0\n",
      "10: 1.0\n"
     ]
    }
   ],
   "source": [
    "import scipy.stats as stats\n",
    "\n",
    "def calculate_cumulative_distribution(trials, p_success, value):\n",
    "    return stats.binom.cdf(value, trials, p_success)\n",
    "\n",
    "for i in range(0,11):\n",
    "    print(str(i).rjust(2, ' ') + \":\", round(calculate_cumulative_distribution(10, 0.5, i),2))    "
   ],
   "metadata": {
    "collapsed": false,
    "ExecuteTime": {
     "end_time": "2024-03-27T09:18:08.164552Z",
     "start_time": "2024-03-27T09:18:08.157834Z"
    }
   },
   "id": "c03274787f04a35b",
   "execution_count": 5
  },
  {
   "cell_type": "markdown",
   "source": [
    "## Probability Density Functions (PDF)\n",
    "\n",
    "Similar to how discrete random variables relate to PMFs, continuous random variables relate to\n",
    "Probability Density Functions (PDF). They define the probability distributions of continuous\n",
    "random variables and span across all possible values that the given random variable can take on.\n",
    "\n",
    "When graphed, a PDF is a curve across all possible values the random variable can take on, \n",
    "and the total area under this curve adds up to 1. In a PDF, we cannot calculate the probability \n",
    "at a single point. This is because the area of the curve underneath a single point is always zero.\n",
    "\n",
    "We can calculate the area under the curve using the CDF for the given probability distribution.\n",
    "\n",
    "We know that women’s heights have a mean of 167.64 cm with a standard deviation of 8 cm, which \n",
    "makes them fall under the Normal (167.64, 8) distribution. Let’s say we want to know the \n",
    "probability that a randomly chosen woman is less than 158 cm tall.\n",
    "We can use the cumulative distribution function to calculate the area under the probability\n",
    "density function curve from 0 to 158 to find that probability.\n",
    "\n",
    "![Probability Density Function](pdf.png)"
   ],
   "metadata": {
    "collapsed": false
   },
   "id": "ba02a574d313501c"
  },
  {
   "cell_type": "code",
   "outputs": [
    {
     "name": "stdout",
     "output_type": "stream",
     "text": [
      "0.11\n"
     ]
    }
   ],
   "source": [
    "import scipy.stats as stats\n",
    "\n",
    "# BE CAREFUL TO USE 'STATS.NORM.CDF' NOT 'STATS.BINOM.CDF'!!!\n",
    "area = stats.norm.cdf(158, 167.64, 8)\n",
    "print(round(area, 2))"
   ],
   "metadata": {
    "collapsed": false,
    "ExecuteTime": {
     "end_time": "2024-03-27T10:57:37.049925Z",
     "start_time": "2024-03-27T10:57:37.045499Z"
    }
   },
   "id": "cf4bfb1351927563",
   "execution_count": 7
  },
  {
   "cell_type": "markdown",
   "source": [
    "We can take the difference between two overlapping ranges to calculate the probability that \n",
    "a random selection will be within a range of values for continuous distributions. This is \n",
    "essentially the same process as calculating the probability of a range of values for discrete\n",
    "distributions."
   ],
   "metadata": {
    "collapsed": false
   },
   "id": "a3f52f3036a8221f"
  },
  {
   "cell_type": "code",
   "outputs": [
    {
     "name": "stdout",
     "output_type": "stream",
     "text": [
      "Women <= 175: 0.82\n",
      "Women <= 165: 0.37\n",
      "Women between 165 and 175:  0.45\n",
      "Women > 175: 0.18\n"
     ]
    }
   ],
   "source": [
    "import scipy.stats as stats\n",
    "\n",
    "women_till_175 = stats.norm.cdf(175, 167.64, 8)\n",
    "women_till_165 = stats.norm.cdf(165, 167.64, 8)\n",
    "women_165_175 = women_till_175 - women_till_165\n",
    "women_larger_175 = 1 - women_till_175\n",
    "\n",
    "\n",
    "print(\"Women <= 175:\", round(women_till_175, 2))\n",
    "print(\"Women <= 165:\", round(women_till_165, 2))\n",
    "print(\"Women between 165 and 175: \", round(women_165_175, 2))\n",
    "print(\"Women > 175:\", round(women_larger_175, 2))"
   ],
   "metadata": {
    "collapsed": false,
    "ExecuteTime": {
     "end_time": "2024-03-27T11:33:11.250920Z",
     "start_time": "2024-03-27T11:33:11.245142Z"
    }
   },
   "id": "715e42e4e10c1826",
   "execution_count": 10
  },
  {
   "cell_type": "markdown",
   "source": [
    "# Poisson Distribution\n",
    "\n",
    "The Poisson distribution is another common distribution, and it is used to describe the number of \n",
    "times a certain event occurs within a fixed time or space interval. For example, the Poisson \n",
    "distribution can be used to describe the number of cars that pass through a specific intersection \n",
    "between 4pm and 5pm on a given day. It can also be used to describe the number of calls received \n",
    "in an office between 1pm to 3pm on a certain day.\n",
    "\n",
    "The Poisson distribution is defined by the rate parameter, symbolized by the Greek letter lambda, \n",
    "λ. Lambda represents the expected value — or the average value — of the distribution. For example, \n",
    "if our expected number of customers between 1pm and 2pm is 7, then we would set the parameter for \n",
    "the Poisson distribution to be 7. The PMF for the Poisson(7) distribution is as follows:\n",
    "\n",
    "![Poisson Distribution](poisson-distribution.png)\n",
    "\n",
    "When we talk about the expected value, we mean the average over many observations. This relates to \n",
    "the Law of Large Numbers: the more samples we have, the more likely samples will resemble the true \n",
    "population, and the mean of the samples will approach the expected value.\n",
    "\n",
    "We can use the poisson.pmf() method in the scipy.stats library to evaluate the probability of \n",
    "observing a specific number given the parameter (expected value) of a distribution. For example, \n",
    "suppose that we expect it to rain 10 times in the next 30 days. The number of times it rains in \n",
    "the next 30 days is “Poisson distributed” with lambda = 10. We can calculate the probability of \n",
    "exactly 6 times of rain as follows:"
   ],
   "metadata": {
    "collapsed": false
   },
   "id": "b7319b5896166c37"
  },
  {
   "cell_type": "code",
   "outputs": [
    {
     "name": "stdout",
     "output_type": "stream",
     "text": [
      " 0 times   0.0 %\n",
      " 1 times  0.05 %\n",
      " 2 times  0.23 %\n",
      " 3 times  0.76 %\n",
      " 4 times  1.89 %\n",
      " 5 times  3.78 %\n",
      " 6 times  6.31 %\n",
      " 7 times  9.01 %\n",
      " 8 times 11.26 %\n",
      " 9 times 12.51 %\n",
      "10 times 12.51 %\n",
      "11 times 11.37 %\n",
      "12 times  9.48 %\n",
      "13 times  7.29 %\n",
      "14 times  5.21 %\n",
      "15 times  3.47 %\n",
      "16 times  2.17 %\n",
      "17 times  1.28 %\n",
      "18 times  0.71 %\n",
      "19 times  0.37 %\n",
      "20 times  0.19 %\n",
      "21 times  0.09 %\n",
      "22 times  0.04 %\n",
      "23 times  0.02 %\n",
      "24 times  0.01 %\n",
      "25 times   0.0 %\n",
      "Sum\t\t 100.0\n",
      "P(9-11)\t 0.36\n"
     ]
    }
   ],
   "source": [
    "import scipy.stats as stats\n",
    "\n",
    "sum = 0.0\n",
    "for i in range(0,26):\n",
    "    # DON'T CONFUSE 'STATS.POISSON' WITH 'STATS.BINOM'\n",
    "    probability = stats.poisson.pmf(i, 10) * 100\n",
    "    sum += probability\n",
    "    print(str(i).rjust(2, \" \"), \"times\", str(round(probability, 2)).rjust(5, \" \"), \"%\")\n",
    "print(\"Sum\\t\\t\", round(sum, 2))\n",
    "\n",
    "cumulative_probability = 0.0\n",
    "for i in range(9,12):\n",
    "    cumulative_probability += stats.poisson.pmf(i, 10)\n",
    "print(\"P(9-11)\\t\", round(cumulative_probability, 2))"
   ],
   "metadata": {
    "collapsed": false,
    "ExecuteTime": {
     "end_time": "2024-03-27T13:49:37.572727Z",
     "start_time": "2024-03-27T13:49:37.566815Z"
    }
   },
   "id": "1e1d9b1388da4b89",
   "execution_count": 24
  },
  {
   "cell_type": "markdown",
   "source": [
    "## Cumulative Density Function (CDF)\n",
    "\n",
    "We can use the poisson.cdf() method in the scipy.stats library to evaluate the probability of \n",
    "observing a specific number or less given the expected value of a distribution. For example, if we \n",
    "wanted to calculate the probability of observing 6 or fewer rain events in the next 30 days when \n",
    "we expected 10, we could do the following:"
   ],
   "metadata": {
    "collapsed": false
   },
   "id": "dc46dedcc7da82c0"
  },
  {
   "cell_type": "code",
   "outputs": [
    {
     "name": "stdout",
     "output_type": "stream",
     "text": [
      "0.130141420882483\n",
      "0.30322385369689386\n",
      "0.29603734909303947\n"
     ]
    }
   ],
   "source": [
    "import scipy.stats as stats\n",
    "\n",
    "prob_1 = stats.poisson.cdf(6, 10)\n",
    "print(prob_1)\n",
    "\n",
    "prob_2 = 1 - stats.poisson.cdf(11, 10)\n",
    "print(prob_2)\n",
    "\n",
    "prob_3 = stats.poisson.cdf(18, 10) - stats.poisson.cdf(11, 10)\n",
    "print(prob_3)"
   ],
   "metadata": {
    "collapsed": false,
    "ExecuteTime": {
     "end_time": "2024-03-27T13:59:42.669614Z",
     "start_time": "2024-03-27T13:59:42.664679Z"
    }
   },
   "id": "3d4cda0527891033",
   "execution_count": 27
  },
  {
   "cell_type": "code",
   "outputs": [
    {
     "name": "stdout",
     "output_type": "stream",
     "text": [
      "9.889\n"
     ]
    }
   ],
   "source": [
    "import scipy.stats as stats\n",
    "\n",
    "# Generate 1_000 random values with lambda 10\n",
    "rvs = stats.poisson.rvs(10, size=1_000)\n",
    "print(rvs.mean())"
   ],
   "metadata": {
    "collapsed": false,
    "ExecuteTime": {
     "end_time": "2024-03-27T14:09:24.053878Z",
     "start_time": "2024-03-27T14:09:24.051213Z"
    }
   },
   "id": "cd13f0775b6e58f9",
   "execution_count": 35
  },
  {
   "cell_type": "markdown",
   "source": [
    "## Spread of the Poisson Distribution\n",
    "\n",
    "Probability distributions also have calculable variances. Variances are a way of measuring the \n",
    "spread or dispersion of values and probabilities in the distribution. For the Poisson \n",
    "distribution, the variance is simply the value of lambda (λ), meaning that the expected value and \n",
    "variance are equivalent in Poisson distributions.\n",
    "\n",
    "The first plot below shows a Poisson distribution with lambda equal to three, and the second plot \n",
    "shows a Poisson distribution with lambda equal to fifteen. Notice that in the second plot, the \n",
    "spread of the distribution increases. Also, take note that the height of the bars in the second \n",
    "bar decrease since there are more possible values in the distribution.\n",
    "\n",
    "As we can see, as the parameter lambda increases, the variance — or spread — of possible values \n",
    "increases as well.\n",
    "\n",
    "![Poisson Distribution Spread](poisson-distribution-spread.png)"
   ],
   "metadata": {
    "collapsed": false
   },
   "id": "86236998e540672a"
  },
  {
   "cell_type": "code",
   "outputs": [
    {
     "name": "stdout",
     "output_type": "stream",
     "text": [
      "Lambda  1 Variance   0.68 Min   0 Max   3\n",
      "Lambda  2 Variance   2.05 Min   0 Max   7\n",
      "Lambda  3 Variance   1.98 Min   0 Max   6\n",
      "Lambda  4 Variance   3.87 Min   0 Max  11\n",
      "Lambda  5 Variance   3.69 Min   0 Max  10\n",
      "Lambda  6 Variance   6.47 Min   1 Max  13\n",
      "Lambda  7 Variance   6.23 Min   1 Max  14\n",
      "Lambda  8 Variance   9.06 Min   1 Max  15\n",
      "Lambda  9 Variance    8.5 Min   3 Max  18\n",
      "Lambda 10 Variance  10.37 Min   3 Max  18\n",
      "Lambda 11 Variance  11.29 Min   3 Max  19\n",
      "Lambda 12 Variance   12.3 Min   6 Max  21\n",
      "Lambda 13 Variance  11.29 Min   5 Max  21\n",
      "Lambda 14 Variance  15.02 Min   3 Max  22\n",
      "Lambda 15 Variance  16.63 Min   7 Max  27\n",
      "Lambda 16 Variance  17.16 Min   6 Max  27\n",
      "Lambda 17 Variance  18.55 Min   9 Max  26\n",
      "Lambda 18 Variance  18.47 Min   8 Max  33\n",
      "Lambda 19 Variance  17.56 Min   6 Max  29\n",
      "Lambda 20 Variance  17.33 Min   9 Max  30\n",
      "Lambda 21 Variance  18.89 Min  11 Max  31\n",
      "Lambda 22 Variance  23.75 Min  12 Max  37\n",
      "Lambda 23 Variance  17.39 Min  15 Max  35\n",
      "Lambda 24 Variance  24.72 Min  11 Max  36\n",
      "Lambda 25 Variance  31.19 Min  15 Max  47\n",
      "Lambda 26 Variance  20.55 Min  15 Max  37\n",
      "Lambda 27 Variance  23.75 Min  14 Max  38\n",
      "Lambda 28 Variance  26.01 Min  16 Max  41\n",
      "Lambda 29 Variance  21.65 Min  18 Max  40\n",
      "Lambda 30 Variance  25.67 Min  18 Max  43\n",
      "Lambda 31 Variance  34.94 Min  16 Max  46\n",
      "Lambda 32 Variance  23.64 Min  17 Max  48\n",
      "Lambda 33 Variance  32.58 Min  17 Max  50\n",
      "Lambda 34 Variance  36.29 Min  21 Max  52\n",
      "Lambda 35 Variance  23.76 Min  21 Max  46\n",
      "Lambda 36 Variance  30.69 Min  22 Max  51\n",
      "Lambda 37 Variance  25.09 Min  20 Max  48\n",
      "Lambda 38 Variance  41.85 Min  21 Max  53\n",
      "Lambda 39 Variance  36.19 Min  27 Max  54\n",
      "Lambda 40 Variance  36.17 Min  25 Max  56\n",
      "Lambda 41 Variance  45.29 Min  26 Max  57\n",
      "Lambda 42 Variance  38.35 Min  28 Max  56\n",
      "Lambda 43 Variance  24.53 Min  31 Max  54\n",
      "Lambda 44 Variance  50.92 Min  25 Max  61\n",
      "Lambda 45 Variance  35.62 Min  31 Max  61\n",
      "Lambda 46 Variance  46.24 Min  28 Max  70\n",
      "Lambda 47 Variance  46.04 Min  31 Max  61\n",
      "Lambda 48 Variance  40.03 Min  34 Max  66\n",
      "Lambda 49 Variance  45.76 Min  27 Max  70\n",
      "Lambda 50 Variance  65.11 Min  32 Max  78\n",
      "Lambda 51 Variance  51.29 Min  35 Max  66\n",
      "Lambda 52 Variance  58.01 Min  33 Max  72\n",
      "Lambda 53 Variance  48.34 Min  35 Max  67\n",
      "Lambda 54 Variance  51.19 Min  37 Max  71\n",
      "Lambda 55 Variance   55.2 Min  39 Max  83\n",
      "Lambda 56 Variance  46.56 Min  40 Max  77\n",
      "Lambda 57 Variance  53.91 Min  32 Max  74\n",
      "Lambda 58 Variance  48.13 Min  44 Max  77\n",
      "Lambda 59 Variance  66.35 Min  42 Max  83\n",
      "Lambda 60 Variance  48.41 Min  44 Max  94\n",
      "Lambda 61 Variance  60.81 Min  38 Max  76\n",
      "Lambda 62 Variance   55.6 Min  40 Max  83\n",
      "Lambda 63 Variance   70.0 Min  44 Max  83\n",
      "Lambda 64 Variance  68.05 Min  42 Max  86\n",
      "Lambda 65 Variance  82.85 Min  39 Max  84\n",
      "Lambda 66 Variance  59.41 Min  51 Max  82\n",
      "Lambda 67 Variance  52.96 Min  51 Max  85\n",
      "Lambda 68 Variance  74.19 Min  49 Max  93\n",
      "Lambda 69 Variance   67.2 Min  48 Max  87\n",
      "Lambda 70 Variance   71.6 Min  51 Max  88\n",
      "Lambda 71 Variance  73.16 Min  47 Max  92\n",
      "Lambda 72 Variance  58.63 Min  57 Max  91\n",
      "Lambda 73 Variance  76.04 Min  51 Max  97\n",
      "Lambda 74 Variance  62.42 Min  57 Max  96\n",
      "Lambda 75 Variance  70.92 Min  53 Max  92\n",
      "Lambda 76 Variance   77.8 Min  50 Max 100\n",
      "Lambda 77 Variance  64.99 Min  54 Max 100\n",
      "Lambda 78 Variance  82.76 Min  54 Max 102\n",
      "Lambda 79 Variance  78.96 Min  57 Max 104\n",
      "Lambda 80 Variance  55.88 Min  56 Max 101\n",
      "Lambda 81 Variance  76.23 Min  60 Max  99\n",
      "Lambda 82 Variance  75.38 Min  53 Max  97\n",
      "Lambda 83 Variance 101.09 Min  52 Max 110\n",
      "Lambda 84 Variance  78.22 Min  58 Max 103\n",
      "Lambda 85 Variance  75.57 Min  67 Max 108\n",
      "Lambda 86 Variance  77.09 Min  67 Max 111\n",
      "Lambda 87 Variance  96.51 Min  61 Max 110\n",
      "Lambda 88 Variance  94.45 Min  62 Max 112\n",
      "Lambda 89 Variance  77.63 Min  64 Max 109\n",
      "Lambda 90 Variance  73.34 Min  64 Max 113\n",
      "Lambda 91 Variance 103.87 Min  69 Max 123\n",
      "Lambda 92 Variance  82.32 Min  69 Max 112\n",
      "Lambda 93 Variance  89.79 Min  73 Max 121\n",
      "Lambda 94 Variance  92.16 Min  72 Max 117\n",
      "Lambda 95 Variance  88.21 Min  75 Max 125\n",
      "Lambda 96 Variance  78.61 Min  75 Max 115\n",
      "Lambda 97 Variance  85.71 Min  78 Max 117\n",
      "Lambda 98 Variance 105.77 Min  70 Max 128\n",
      "Lambda 99 Variance 114.31 Min  76 Max 133\n"
     ]
    }
   ],
   "source": [
    "import numpy as np\n",
    "import scipy.stats as stats\n",
    "\n",
    "for i in range(1, 100):\n",
    "    rvs = stats.poisson.rvs(i, size=100)\n",
    "    variance = np.var(rvs)\n",
    "    min_no = min(rvs)\n",
    "    max_no = max(rvs)\n",
    "    print(\"Lambda\", str(i).rjust(2, \" \"),\n",
    "          \"Variance\", str(round(variance, 2)).rjust(6, \" \"),\n",
    "          \"Min\", str(min_no).rjust(3, \" \"),\n",
    "          \"Max\", str(max_no).rjust(3, \" \"))"
   ],
   "metadata": {
    "collapsed": false,
    "ExecuteTime": {
     "end_time": "2024-03-27T14:37:18.248242Z",
     "start_time": "2024-03-27T14:37:18.234917Z"
    }
   },
   "id": "b6fe1f02c413fea",
   "execution_count": 41
  },
  {
   "cell_type": "markdown",
   "source": [
    "## Expected Value of the Binomial Distribution\n",
    "\n",
    "$ E(X) = n * p $\n",
    "\n",
    "Note that if we were counting the number of heads out of 5 fair coin flips, the expected value \n",
    "would be:\n",
    "\n",
    "<br>$ E(NumberOfHeads) = 5 * 0.5 = 2.5 $ \n",
    "\n",
    "## Variance of the Binomial Distribution\n",
    "\n",
    "Variance for the Binomial distribution is similarly calculated to the expected value using the n \n",
    "(# of trials) and p (probability of success) parameters. Let’s use the 10 fair coin flips example \n",
    "to try to understand how variance is calculated. Each coin flip has a certain probability of \n",
    "landing as heads or tails: 0.5 and 0.5, respectively.\n",
    "\n",
    "The variance of a single coin flip will be the probability that the success happens times the \n",
    "probability that it does not happen: p·(1-p), or 0.5 x 0.5. Because we have n = 10 number of coin \n",
    "flips, the variance of a single fair coin flip is multiplied by the number of flips. Thus we get \n",
    "the equation:\n",
    "\n",
    "<br>$ Var(X) = n * p * (1-p) $"
   ],
   "metadata": {
    "collapsed": false
   },
   "id": "f1e41f5977337168"
  },
  {
   "cell_type": "markdown",
   "source": [
    "# Sampling Distributions\n",
    "\n",
    "The numpy.random package has several functions that we could use to simulate random sampling. In \n",
    "this exercise, we’ll use the function np.random.choice(), which generates a sample of some size \n",
    "from a given array."
   ],
   "metadata": {
    "collapsed": false
   },
   "id": "6f681a29a7f43c6a"
  },
  {
   "cell_type": "code",
   "outputs": [
    {
     "name": "stdout",
     "output_type": "stream",
     "text": [
      "[30.09309221 50.09947225 82.82690343 19.95340556 98.44885753 13.02522005\n",
      " 58.25981488 52.3840448  62.96676316 44.27754985]\n",
      "51.23351237138443\n",
      "min 50.832141587324685\n",
      "max 72.9140124283609\n",
      "avg 60.83255759062686\n",
      "std 4.017087272057174\n"
     ]
    },
    {
     "data": {
      "text/plain": "<Figure size 640x480 with 1 Axes>",
      "image/png": "[encoded data removed]"
     },
     "metadata": {},
     "output_type": "display_data"
    }
   ],
   "source": [
    "import numpy as py\n",
    "import pandas as pd\n",
    "import seaborn as sns\n",
    "import matplotlib.pyplot as plt\n",
    "\n",
    "df_population = pd.read_csv('salmon_population.csv')\n",
    "population = np.array(df_population.Salmon_Weight)\n",
    "sample_size = 10\n",
    "sample = np.random.choice(population, sample_size, replace=False)\n",
    "print(sample)\n",
    "print(np.mean(sample))\n",
    "\n",
    "sample_size_2 = 100\n",
    "sample_means = []\n",
    "for _ in range(500):\n",
    "    sample_2 = np.random.choice(population, sample_size_2, replace=False)\n",
    "    sample_means += [np.mean(sample_2)]\n",
    "print(\"min\", min(sample_means))\n",
    "print(\"max\", max(sample_means))\n",
    "print(\"avg\", np.mean(sample_means))\n",
    "print(\"std\", np.std(sample_means))\n",
    "\n",
    "sns.histplot(sample_means, stat='density')\n",
    "plt.title(\"Sampling Distribution of the Mean\")\n",
    "plt.show()\n"
   ],
   "metadata": {
    "collapsed": false,
    "ExecuteTime": {
     "end_time": "2024-03-27T17:32:52.821347Z",
     "start_time": "2024-03-27T17:32:52.725214Z"
    }
   },
   "id": "f13bdeefe10d6868",
   "execution_count": 57
  },
  {
   "cell_type": "markdown",
   "source": [
    "## Central Limit Theorem (CLT)\n",
    "\n",
    "The Central Limit Theorem (CLT) allows us to specifically describe the sampling distribution of \n",
    "the mean.\n",
    "\n",
    "The CLT states that the sampling distribution of the mean is normally distributed as long as the \n",
    "population is not too skewed or the sample size is large enough. Using a sample size of n > 30 is \n",
    "usually a good rule of thumb, regardless of what the distribution of the population is like. If \n",
    "the distribution of the population is normal, the sample size can be smaller than that.\n",
    "\n",
    "The CLT not only establishes that the sampling distribution will be normally distributed, but it \n",
    "also allows us to describe that normal distribution quantitatively. Normal distributions are \n",
    "described by their mean $ \\mu $ (mu) and standard deviation $ \\sigma $ (sigma).\n",
    "\n",
    "Let’s break this up:\n",
    "\n",
    "We take samples of size n from a population (that has a true population mean $ \\mu $ and standard \n",
    "deviation of $ \\sigma $) and calculate the sample mean x. Given that n is sufficiently large (n > \n",
    "30), the sampling distribution of the means will be normally distributed with:\n",
    "* mean x approximately equal to the population mean $ \\mu $\n",
    "* standard deviation equal to the population standard deviation divided by the square root of the sample size. \n",
    "\n",
    "We can write this out as:\n",
    "\n",
    "<b> $ SamplingDistributionSTD = \\frac{\\sigma}{\\sqrt{n}} $ \n",
    "\n",
    "The standard deviation of a sampling distribution is also known as the standard error of the \n",
    "estimate of the mean. \n",
    "\n"
   ],
   "metadata": {
    "collapsed": false
   },
   "id": "945800f421f405f3"
  }
 ],
 "metadata": {
  "kernelspec": {
   "display_name": "Python 3",
   "language": "python",
   "name": "python3"
  },
  "language_info": {
   "codemirror_mode": {
    "name": "ipython",
    "version": 2
   },
   "file_extension": ".py",
   "mimetype": "text/x-python",
   "name": "python",
   "nbconvert_exporter": "python",
   "pygments_lexer": "ipython2",
   "version": "2.7.6"
  }
 },
 "nbformat": 4,
 "nbformat_minor": 5
}

{
 "cells": [
  {
   "cell_type": "markdown",
   "source": [
    "# Inferential Statistics\n",
    "\n",
    "Inferential statistics is all about using a sample (a subset of a population) to make inferences \n",
    "about a larger population of interest. This is useful when we want to know something about a \n",
    "population but cannot observe every member — often due to time, feasibility, or monetary \n",
    "constraints. Some methods that are used in inferential statistics include hypothesis testing and \n",
    "regression.\n",
    "\n",
    "The key to inferential statistics is understanding that samples do not always accurately reflect the \n",
    "population they came from. A large part of inferential statistics is quantifying our uncertainty \n",
    "about a population by looking at a smaller sample.\n",
    "\n",
    "## Introduction to hypothesis testing\n",
    "\n",
    "Hypothesis Testing is a framework for asking questions about a dataset and answering them with \n",
    "probabilistic statements. There are many different kinds of hypothesis tests that can be used to \n",
    "address different kinds of questions and data.\n",
    "* Step 1: Ask a Question\n",
    "* Step 2: Define the Null and Alternative Hypotheses\n",
    "* Step 3: Determine the Null Distribution \n",
    "* Step 4: Calculate a P-Value or Confidence Interval\n",
    "* Step 5: Interpret the results\n",
    "\n",
    "## One-Sample T-Tests\n",
    "\n",
    "One-sample t-tests are used for comparing a sample average to a hypothetical population average. For \n",
    "example, a one-sample t-test might be used to address questions such as:\n",
    "* Is the average amount of time that visitors spend on a website different from 5 minutes?\n",
    "* Is the average amount of money that customers spend on a purchase more than 10 USD?\n",
    "\n",
    "## Simulating a Binomial Test\n",
    "\n",
    "Binomial tests are useful for comparing the frequency of some outcome in a sample to the expected \n",
    "probability of that outcome. For example, if we expect 90% of ticketed passengers to show up for \n",
    "their flight but only 80 of 100 ticketed passengers actually show up, we could use a binomial test \n",
    "to understand whether 80 is significantly different from 90.\n",
    "\n",
    "Binomial tests are similar to one-sample t-tests in that they test a sample statistic against some \n",
    "population-level expectation. The difference is that:\n",
    "* Binomial tests are used for binary categorical data to compare a sample frequency to an expected  population-level probability\n",
    "* One-sample t-tests are used for quantitative data to compare a sample mean to an expected population mean.\n",
    "\n",
    "## Significance Threshold\n",
    "\n",
    "In order to turn a p-value, which is a probability, into a yes or no answer, data scientists often \n",
    "use a pre-set significance threshold. The significance threshold can be any number between 0 and 1, \n",
    "but a common choice is 0.05. P-values that are less than this threshold are considered \n",
    "“significant”, while larger p-values are considered “not significant”.\n",
    "\n",
    "Whenever we run a hypothesis test using a significance threshold, we expose ourselves to making two \n",
    "different kinds of mistakes: type I errors (false positives) and type II errors (false negatives):\n",
    "\n",
    "![Type I and II Errors](errors.png)\n",
    "\n"
   ],
   "metadata": {
    "collapsed": false
   },
   "id": "5b874571a4e5ed0a"
  }
 ],
 "metadata": {
  "kernelspec": {
   "display_name": "Python 3",
   "language": "python",
   "name": "python3"
  },
  "language_info": {
   "codemirror_mode": {
    "name": "ipython",
    "version": 2
   },
   "file_extension": ".py",
   "mimetype": "text/x-python",
   "name": "python",
   "nbconvert_exporter": "python",
   "pygments_lexer": "ipython2",
   "version": "2.7.6"
  }
 },
 "nbformat": 4,
 "nbformat_minor": 5
}

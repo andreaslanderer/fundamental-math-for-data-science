{
 "cells": [
  {
   "cell_type": "markdown",
   "source": [
    "# Intro to variable types\n",
    "\n",
    "## Quantitative Variables\n",
    "\n",
    "Variables like counts or measures\n",
    "\n",
    "### Discrete Variables\n",
    "\n",
    "Whole numbers representing counts\n",
    "\n",
    "### Continuous Variables\n",
    "\n",
    "Measurements that can be represented using decimal numbers\n",
    "\n",
    "## Categorical Variables\n",
    "\n",
    "Variables that focus on different ways that data can be grouped rather than\n",
    "counter or measured\n",
    "\n",
    "### Ordinal Variables\n",
    "\n",
    "Groups that represent some kind of order (one group is better/worse than the other)\n",
    "\n",
    "### Nominal Variables\n",
    "\n",
    "Groups with no relational order between them\n",
    "\n",
    "### Binary Variables\n",
    "\n",
    "Special kind of nominal variables with only two groups\n",
    "\n",
    "# Calculating Quantitative Variables\n",
    "\n",
    "## Mean\n",
    "\n",
    "$ \\overline{x} = \\frac{x_1 + x_2 + ... + x_n}{n} $\n",
    "\n",
    "The mean represents the center of a dataset (not to be confused with the median).\n",
    "We can use NumPy to calculate the mean and the average of our dataset."
   ],
   "metadata": {
    "collapsed": false
   },
   "id": "3e835cd3b5e129a2"
  },
  {
   "cell_type": "code",
   "outputs": [
    {
     "name": "stdout",
     "output_type": "stream",
     "text": [
      "Mean Value:  5.0\n",
      "Average Value:  5.0\n"
     ]
    }
   ],
   "source": [
    "import numpy as np\n",
    "\n",
    "dataset = np.array([2, 4, 6, 8])\n",
    "print(\"Mean Value:\", np.mean(dataset))\n",
    "print(\"Average Value:\", np.average(dataset))\n"
   ],
   "metadata": {
    "collapsed": false,
    "ExecuteTime": {
     "end_time": "2024-03-22T19:16:46.722277Z",
     "start_time": "2024-03-22T19:16:43.991172Z"
    }
   },
   "id": "b7829d2d856cce8c",
   "execution_count": 1
  },
  {
   "cell_type": "markdown",
   "source": [
    "## Median\n",
    "\n",
    "The value that, assuming the dataset is ordered from smallest to largest, falls in the middle. \n",
    "If there are an even number of values in a dataset, you either report both \n",
    "of the middle two values or their average."
   ],
   "metadata": {
    "collapsed": false
   },
   "id": "7c83392b593cc02"
  },
  {
   "cell_type": "code",
   "outputs": [
    {
     "name": "stdout",
     "output_type": "stream",
     "text": [
      "Median: 5\n"
     ]
    }
   ],
   "source": [
    "import numpy as np\n",
    "\n",
    "dataset = np.array([9,5,2,7,1,3,6,4,8])\n",
    "median = int(np.median(dataset))\n",
    "print(\"Median:\", median)"
   ],
   "metadata": {
    "collapsed": false,
    "ExecuteTime": {
     "end_time": "2024-03-22T19:30:29.352975Z",
     "start_time": "2024-03-22T19:30:29.348213Z"
    }
   },
   "id": "f7581b1ea0d38232",
   "execution_count": 4
  },
  {
   "cell_type": "markdown",
   "source": [
    "## Mode\n",
    "\n",
    "The most frequently occurring observation in the dataset. A dataset can have multiple modes \n",
    "if there is more than one value with the same maximum frequency."
   ],
   "metadata": {
    "collapsed": false
   },
   "id": "1b38c3c951626de6"
  },
  {
   "cell_type": "code",
   "outputs": [
    {
     "name": "stdout",
     "output_type": "stream",
     "text": [
      "Mode: 5 Count: 3\n"
     ]
    }
   ],
   "source": [
    "import numpy as np\n",
    "from scipy import stats\n",
    "\n",
    "data = np.array([3, 1, 2, 5, 5, 2, 5, 4, 1])\n",
    "mode = stats.mode(data)\n",
    "\n",
    "print(\"Mode:\", mode[0], \"Count:\", mode[1])"
   ],
   "metadata": {
    "collapsed": false,
    "ExecuteTime": {
     "end_time": "2024-03-23T11:03:51.470277Z",
     "start_time": "2024-03-23T11:03:51.464673Z"
    }
   },
   "id": "f32b5c667440ba5f",
   "execution_count": 9
  },
  {
   "cell_type": "markdown",
   "source": [
    "## Variance\n",
    "\n",
    "Variance is a descriptive statistic that describes how spread out the points in a data set are.\n",
    "We can calculate the variance of our dataset by including every point in our calculation. \n",
    "We simply have to find the difference between every data point (X) and the mean ($\\mu$).\n",
    "Note: We square the formula to get rid of negative results.\n",
    "<br>$ difference = (X - \\mu)^2 $\n",
    "<br>If we want to calculate the variance ($\\sigma^2$) of of a whole dataset, the formula looks\n",
    "as follows:\n",
    "<br>$ \\sigma^2 = \\frac{\\sum \\limits _{i=1} ^{n} (X_1 - \\mu)^2}{N}  $"
   ],
   "metadata": {
    "collapsed": false
   },
   "id": "39d38d308bc5c658"
  },
  {
   "cell_type": "code",
   "outputs": [
    {
     "name": "stdout",
     "output_type": "stream",
     "text": [
      "Variance 1: 1.43 Mean 1: 3.0\n",
      "Variance 2: 4.67 Mean 2: 3.0\n"
     ]
    }
   ],
   "source": [
    "import numpy as np\n",
    "\n",
    "grades1 = np.array([1, 2, 3, 3, 4, 5, 3])\n",
    "mean1 = np.average(grades1)\n",
    "variance1 = np.var(grades1)\n",
    "\n",
    "grades2 = np.array([1, 6, 6, 1, 2, 2])\n",
    "mean2 = np.average(grades2)\n",
    "variance2 = np.var(grades2)\n",
    "\n",
    "print(\"Variance 1:\", round(variance1, 2), \"Mean 1:\", round(mean1, 2))\n",
    "print(\"Variance 2:\", round(variance2, 2), \"Mean 2:\", round(mean2, 2)) "
   ],
   "metadata": {
    "collapsed": false,
    "ExecuteTime": {
     "end_time": "2024-03-23T18:40:11.990968Z",
     "start_time": "2024-03-23T18:40:11.985422Z"
    }
   },
   "id": "13bdcc8916478fba",
   "execution_count": 13
  },
  {
   "cell_type": "markdown",
   "source": [
    "## Standard Deviation\n",
    "\n",
    "Variance is hard to compare to the other measures (mean, median, mode) since its value and unit \n",
    "are squared. That's where standard deviation comes into play.\n",
    "<br> $ \\sigma = \\sqrt{\\sigma^2} = \\sqrt{\\frac{\\sum \\limits _{i=i} ^{n} (X_i - \\mu)^2 }{N}} $ "
   ],
   "metadata": {
    "collapsed": false
   },
   "id": "a9445c3d6e628a00"
  },
  {
   "cell_type": "code",
   "outputs": [
    {
     "name": "stdout",
     "output_type": "stream",
     "text": [
      "Standard Deviation 1: 1.2\n",
      "Standard Deviation 2: 2.16\n"
     ]
    }
   ],
   "source": [
    "import numpy as np\n",
    "\n",
    "grades1 = np.array([1, 2, 3, 3, 4, 5, 3])\n",
    "std1 = np.std(grades1)\n",
    "\n",
    "grades2 = np.array([1, 6, 6, 1, 2, 2])\n",
    "std2 = np.std(grades2)\n",
    "\n",
    "print(\"Standard Deviation 1:\", round(std1, 2))\n",
    "print(\"Standard Deviation 2:\", round(std2, 2))"
   ],
   "metadata": {
    "collapsed": false,
    "ExecuteTime": {
     "end_time": "2024-03-23T20:39:35.787426Z",
     "start_time": "2024-03-23T20:39:35.781809Z"
    }
   },
   "id": "8c30201e4d4d6b1f",
   "execution_count": 17
  },
  {
   "cell_type": "markdown",
   "source": [
    "By finding the number of standard deviations a data point is away from the mean, \n",
    "we can begin to investigate how unusual that datapoint truly is. In fact, you can usually \n",
    "expect around 68% of your data to fall within one standard deviation of the mean, \n",
    "95% of your data to fall within two standard deviations of the mean, and 99.7% of your data \n",
    "to fall within three standard deviations of the mean. If you have a data point that is over \n",
    "three standard deviations away from the mean, that's an incredibly unusual piece of data!"
   ],
   "metadata": {
    "collapsed": false
   },
   "id": "9502bf0fe76450bb"
  },
  {
   "cell_type": "code",
   "outputs": [
    {
     "name": "stdout",
     "output_type": "stream",
     "text": [
      "The difference of 2 in standard deviations is:  0.46\n",
      "The difference of 6 in standard deviations is:  1.39\n"
     ]
    }
   ],
   "source": [
    "import numpy as np\n",
    "\n",
    "grades = np.array([1, 6, 6, 1, 2, 2])\n",
    "mean = np.average(grades)\n",
    "std = np.std(grades)\n",
    "\n",
    "difference_two = abs(2 - mean)\n",
    "difference_six = abs(6 - mean)\n",
    "difference_two_std = difference_two / std\n",
    "difference_six_std = difference_six / std\n",
    "print(\"The difference of 2 in standard deviations is: \", round(difference_two_std, 2))\n",
    "print(\"The difference of 6 in standard deviations is: \", round(difference_six_std, 2))"
   ],
   "metadata": {
    "collapsed": false,
    "ExecuteTime": {
     "end_time": "2024-03-23T20:50:54.091204Z",
     "start_time": "2024-03-23T20:50:54.087261Z"
    }
   },
   "id": "5b5e1a6f004365c",
   "execution_count": 19
  },
  {
   "cell_type": "markdown",
   "source": [
    "# Calculating Categorical Variables\n",
    "\n",
    "## Nominal Categories\n",
    "\n",
    "### Mode"
   ],
   "metadata": {
    "collapsed": false
   },
   "id": "b17a321baefd6b23"
  },
  {
   "cell_type": "code",
   "outputs": [
    {
     "name": "stdout",
     "output_type": "stream",
     "text": [
      "type\n",
      "Grass       3\n",
      "Water       3\n",
      "Electric    2\n",
      "Fire        1\n",
      "Normal      1\n",
      "Name: count, dtype: int64\n",
      "Mode: Grass\n"
     ]
    }
   ],
   "source": [
    "import pandas as pd\n",
    "\n",
    "pokemon = [\n",
    "    {\"name\": \"Pikachu\", \"type\": \"Electric\", \"evolution\": \"Base\", \"height_in_cm\": 40.6},\n",
    "    {\"name\": \"Charizard\", \"type\": \"Fire\", \"evolution\": \"Final\", \"height_in_cm\": 170},\n",
    "    {\"name\": \"Bulbasaur\", \"type\": \"Grass\", \"evolution\": \"Base\", \"height_in_cm\": 70},\n",
    "    {\"name\": \"Ivysaur\", \"type\": \"Grass\", \"evolution\": \"Middle\", \"height_in_cm\": 100},\n",
    "    {\"name\": \"Venusaur\", \"type\": \"Grass\", \"evolution\": \"Final\", \"height_in_cm\": 200},\n",
    "    {\"name\": \"Squirtle\", \"type\": \"Water\", \"evolution\": \"Base\", \"height_in_cm\": 50},\n",
    "    {\"name\": \"Wartortle\", \"type\": \"Water\", \"evolution\": \"Middle\", \"height_in_cm\": 100},\n",
    "    {\"name\": \"Blastoise\", \"type\": \"Water\", \"evolution\": \"Final\", \"height_in_cm\": 160},\n",
    "    {\"name\": \"Eevee\", \"type\": \"Normal\", \"evolution\": \"Base\", \"height_in_cm\": 30},\n",
    "    {\"name\": \"Jolteon\", \"type\": \"Electric\", \"evolution\": \"Final\", \"height_in_cm\": 80}\n",
    "]\n",
    "df = pd.DataFrame(pokemon)\n",
    "type_counts = df[\"type\"].value_counts()\n",
    "print(type_counts)\n",
    "print(\"Mode:\", type_counts.index[0])\n"
   ],
   "metadata": {
    "collapsed": false,
    "ExecuteTime": {
     "end_time": "2024-03-24T14:42:24.095739Z",
     "start_time": "2024-03-24T14:42:24.087659Z"
    }
   },
   "id": "c2ff63640791cb76",
   "execution_count": 24
  },
  {
   "cell_type": "markdown",
   "source": [
    "## Ordinal Categories\n",
    "\n",
    "### Median\n",
    "\n",
    "With equal spacing between ordinal categorical values"
   ],
   "metadata": {
    "collapsed": false
   },
   "id": "2a46a2414e4ff564"
  },
  {
   "cell_type": "code",
   "outputs": [
    {
     "name": "stdout",
     "output_type": "stream",
     "text": [
      "['Base' 'Final' 'Middle']\n",
      "Middle\n"
     ]
    }
   ],
   "source": [
    "import pandas as pd\n",
    "\n",
    "pokemon = [\n",
    "    {\"name\": \"Pikachu\", \"type\": \"Electric\", \"evolution\": \"Base\", \"height_in_cm\": 40.6},\n",
    "    {\"name\": \"Charizard\", \"type\": \"Fire\", \"evolution\": \"Final\", \"height_in_cm\": 170},\n",
    "    {\"name\": \"Bulbasaur\", \"type\": \"Grass\", \"evolution\": \"Base\", \"height_in_cm\": 70},\n",
    "    {\"name\": \"Ivysaur\", \"type\": \"Grass\", \"evolution\": \"Middle\", \"height_in_cm\": 100},\n",
    "    {\"name\": \"Venusaur\", \"type\": \"Grass\", \"evolution\": \"Final\", \"height_in_cm\": 200},\n",
    "    {\"name\": \"Squirtle\", \"type\": \"Water\", \"evolution\": \"Base\", \"height_in_cm\": 50},\n",
    "    {\"name\": \"Wartortle\", \"type\": \"Water\", \"evolution\": \"Middle\", \"height_in_cm\": 100},\n",
    "    {\"name\": \"Blastoise\", \"type\": \"Water\", \"evolution\": \"Final\", \"height_in_cm\": 160},\n",
    "    {\"name\": \"Eevee\", \"type\": \"Normal\", \"evolution\": \"Base\", \"height_in_cm\": 30},\n",
    "    {\"name\": \"Jolteon\", \"type\": \"Electric\", \"evolution\": \"Final\", \"height_in_cm\": 80}\n",
    "]\n",
    "df = pd.DataFrame(pokemon)\n",
    "print(df[\"evolution\"].unique())\n",
    "evolution_categories = [\"Base\", \"Middle\", \"Final\"]\n",
    "df[\"evolution\"] = pd.Categorical(df[\"evolution\"], evolution_categories, ordered=True)\n",
    "median_index = int(np.median(df[\"evolution\"].cat.codes))\n",
    "median_evolution = evolution_categories[median_index]\n",
    "print(median_evolution)"
   ],
   "metadata": {
    "collapsed": false,
    "ExecuteTime": {
     "end_time": "2024-03-24T14:49:12.956620Z",
     "start_time": "2024-03-24T14:49:12.948181Z"
    }
   },
   "id": "c6745699a910d702",
   "execution_count": 27
  },
  {
   "cell_type": "markdown",
   "source": [
    "### Ordinal Categories Spread - Inter-quartile Range (IQR)"
   ],
   "metadata": {
    "collapsed": false
   },
   "id": "e7772165ab54dd74"
  },
  {
   "cell_type": "code",
   "outputs": [
    {
     "name": "stdout",
     "output_type": "stream",
     "text": [
      "['medium' 'huge' 'tall' 'small']\n",
      "25th percentile: medium\n",
      "75th percentile: tall\n",
      "95th percentile: huge\n"
     ]
    }
   ],
   "source": [
    "import pandas as pd\n",
    "\n",
    "pokemon = [\n",
    "    {\"name\": \"Pikachu\", \"type\": \"Electric\", \"evolution\": \"Base\", \"height_in_cm\": 40.6, \"height_category\": \"medium\"},\n",
    "    {\"name\": \"Charizard\", \"type\": \"Fire\", \"evolution\": \"Final\", \"height_in_cm\": 170, \"height_category\": \"huge\"},\n",
    "    {\"name\": \"Bulbasaur\", \"type\": \"Grass\", \"evolution\": \"Base\", \"height_in_cm\": 70,\"height_category\": \"medium\"},\n",
    "    {\"name\": \"Ivysaur\", \"type\": \"Grass\", \"evolution\": \"Middle\", \"height_in_cm\": 100, \"height_category\": \"tall\"},\n",
    "    {\"name\": \"Venusaur\", \"type\": \"Grass\", \"evolution\": \"Final\", \"height_in_cm\": 200, \"height_category\": \"huge\"},\n",
    "    {\"name\": \"Squirtle\", \"type\": \"Water\", \"evolution\": \"Base\", \"height_in_cm\": 50, \"height_category\": \"medium\"},\n",
    "    {\"name\": \"Wartortle\", \"type\": \"Water\", \"evolution\": \"Middle\", \"height_in_cm\": 100,\"height_category\": \"tall\"},\n",
    "    {\"name\": \"Blastoise\", \"type\": \"Water\", \"evolution\": \"Final\", \"height_in_cm\": 160, \"height_category\": \"tall\"},\n",
    "    {\"name\": \"Eevee\", \"type\": \"Normal\", \"evolution\": \"Base\", \"height_in_cm\": 30, \n",
    "     \"height_category\": \"small\"},\n",
    "    {\"name\": \"Jolteon\", \"type\": \"Electric\", \"evolution\": \"Final\", \"height_in_cm\": 80, \"height_category\": \"medium\"}\n",
    "]\n",
    "df = pd.DataFrame(pokemon)\n",
    "print(df[\"height_category\"].unique())\n",
    "height_categories = [\"small\", \"medium\", \"tall\", \"huge\"]\n",
    "df[\"height_category\"] = pd.Categorical(df[\"height_category\"], height_categories, ordered=True)\n",
    "\n",
    "p25_height_index = int(np.percentile(df[\"height_category\"].cat.codes, 25))\n",
    "p25_height_category = height_categories[p25_height_index]\n",
    "print(\"25th percentile:\", p25_height_category)\n",
    "\n",
    "p75_height_index = int(np.percentile(df[\"height_category\"].cat.codes, 75))\n",
    "p75_height_category = height_categories[p75_height_index]\n",
    "print(\"75th percentile:\", p75_height_category)\n",
    "\n",
    "p95th_height_index = int(np.percentile(df[\"height_category\"].cat.codes, 95))\n",
    "p95th_height_category = height_categories[p95th_height_index]\n",
    "print(\"95th percentile:\", p95th_height_category)"
   ],
   "metadata": {
    "collapsed": false,
    "ExecuteTime": {
     "end_time": "2024-03-24T15:25:03.893122Z",
     "start_time": "2024-03-24T15:25:03.885731Z"
    }
   },
   "id": "6a83454bcdfd62d9",
   "execution_count": 38
  },
  {
   "cell_type": "markdown",
   "source": [
    "### Table of proportions"
   ],
   "metadata": {
    "collapsed": false
   },
   "id": "42d5916fca9047d6"
  },
  {
   "cell_type": "code",
   "outputs": [
    {
     "name": "stdout",
     "output_type": "stream",
     "text": [
      "Ignoring n/a \n",
      " type\n",
      "Grass       0.333333\n",
      "Water       0.333333\n",
      "Electric    0.111111\n",
      "Fire        0.111111\n",
      "Normal      0.111111\n",
      "Name: proportion, dtype: float64\n",
      "With n/a \n",
      " type\n",
      "Grass       0.3\n",
      "Water       0.3\n",
      "Electric    0.1\n",
      "Fire        0.1\n",
      "Normal      0.1\n",
      "NaN         0.1\n",
      "Name: proportion, dtype: float64\n"
     ]
    }
   ],
   "source": [
    "import pandas as pd\n",
    "\n",
    "pokemon = [\n",
    "    {\"name\": \"Pikachu\", \"type\": \"Electric\", \"evolution\": \"Base\", \"height_in_cm\": 40.6},\n",
    "    {\"name\": \"Charizard\", \"type\": \"Fire\", \"evolution\": \"Final\", \"height_in_cm\": 170},\n",
    "    {\"name\": \"Bulbasaur\", \"type\": \"Grass\", \"evolution\": \"Base\", \"height_in_cm\": 70},\n",
    "    {\"name\": \"Ivysaur\", \"type\": \"Grass\", \"evolution\": \"Middle\", \"height_in_cm\": 100},\n",
    "    {\"name\": \"Venusaur\", \"type\": \"Grass\", \"evolution\": \"Final\", \"height_in_cm\": 200},\n",
    "    {\"name\": \"Squirtle\", \"type\": \"Water\", \"evolution\": \"Base\", \"height_in_cm\": 50},\n",
    "    {\"name\": \"Wartortle\", \"type\": \"Water\", \"evolution\": \"Middle\", \"height_in_cm\": 100},\n",
    "    {\"name\": \"Blastoise\", \"type\": \"Water\", \"evolution\": \"Final\", \"height_in_cm\": 160},\n",
    "    {\"name\": \"Eevee\", \"type\": \"Normal\", \"evolution\": \"Base\", \"height_in_cm\": 30},\n",
    "    {\"name\": \"Jolteon\", \"evolution\": \"Final\", \"height_in_cm\": 80}\n",
    "]\n",
    "df = pd.DataFrame(pokemon)\n",
    "type_proportions = df.type.value_counts(normalize=True)\n",
    "print(\"Ignoring n/a \\n\", type_proportions)\n",
    "\n",
    "type_proportions_with_na = df.type.value_counts(normalize=True, dropna=False)\n",
    "print(\"With n/a \\n\", type_proportions_with_na)"
   ],
   "metadata": {
    "collapsed": false,
    "ExecuteTime": {
     "end_time": "2024-03-24T16:58:25.713480Z",
     "start_time": "2024-03-24T16:58:25.704141Z"
    }
   },
   "id": "d1b5e2a4e4e4c68e",
   "execution_count": 45
  },
  {
   "cell_type": "markdown",
   "source": [
    "## Binary Categorical Variables"
   ],
   "metadata": {
    "collapsed": false
   },
   "id": "ce348277e9d3fe1b"
  },
  {
   "cell_type": "code",
   "outputs": [
    {
     "name": "stdout",
     "output_type": "stream",
     "text": [
      "Frequency : 3\n",
      "Proportion: 0.3\n"
     ]
    }
   ],
   "source": [
    "import pandas as pd\n",
    "\n",
    "pokemon = [\n",
    "    {\"name\": \"Pikachu\", \"type\": \"Electric\", \"evolution\": \"Base\", \"height_in_cm\": 40.6},\n",
    "    {\"name\": \"Charizard\", \"type\": \"Fire\", \"evolution\": \"Final\", \"height_in_cm\": 170},\n",
    "    {\"name\": \"Bulbasaur\", \"type\": \"Grass\", \"evolution\": \"Base\", \"height_in_cm\": 70},\n",
    "    {\"name\": \"Ivysaur\", \"type\": \"Grass\", \"evolution\": \"Middle\", \"height_in_cm\": 100},\n",
    "    {\"name\": \"Venusaur\", \"type\": \"Grass\", \"evolution\": \"Final\", \"height_in_cm\": 200},\n",
    "    {\"name\": \"Squirtle\", \"type\": \"Water\", \"evolution\": \"Base\", \"height_in_cm\": 50},\n",
    "    {\"name\": \"Wartortle\", \"type\": \"Water\", \"evolution\": \"Middle\", \"height_in_cm\": 100},\n",
    "    {\"name\": \"Blastoise\", \"type\": \"Water\", \"evolution\": \"Final\", \"height_in_cm\": 160},\n",
    "    {\"name\": \"Eevee\", \"type\": \"Normal\", \"evolution\": \"Base\", \"height_in_cm\": 30},\n",
    "    {\"name\": \"Jolteon\", \"type\": \"Electric\", \"evolution\": \"Final\", \"height_in_cm\": 80}\n",
    "]\n",
    "df = pd.DataFrame(pokemon)\n",
    "\n",
    "large_frequency = (df.height_in_cm > 150).sum()\n",
    "large_proportion = (df.height_in_cm > 150).mean()\n",
    "\n",
    "print(\"Frequency :\", large_frequency)\n",
    "print(\"Proportion:\", large_proportion)"
   ],
   "metadata": {
    "collapsed": false,
    "ExecuteTime": {
     "end_time": "2024-03-24T17:14:10.447903Z",
     "start_time": "2024-03-24T17:14:10.440891Z"
    }
   },
   "id": "25f0add11feeff78",
   "execution_count": 47
  }
 ],
 "metadata": {
  "kernelspec": {
   "display_name": "Python 3",
   "language": "python",
   "name": "python3"
  },
  "language_info": {
   "codemirror_mode": {
    "name": "ipython",
    "version": 2
   },
   "file_extension": ".py",
   "mimetype": "text/x-python",
   "name": "python",
   "nbconvert_exporter": "python",
   "pygments_lexer": "ipython2",
   "version": "2.7.6"
  }
 },
 "nbformat": 4,
 "nbformat_minor": 5
}
